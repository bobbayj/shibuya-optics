{
 "cells": [
  {
   "cell_type": "markdown",
   "metadata": {},
   "source": [
    "# Summary\n",
    "[**Best practices link**](https://machinelearningmastery.com/best-practices-for-preparing-and-augmenting-image-data-for-convolutional-neural-networks/)\n",
    "\n",
    "- Data Preparation\n",
    "    - A fixed size must be selected for input images, and all images must be resized to that shape. The most common type of pixel scaling involves centering pixel values per-channel, perhaps followed by some type of normalization.\n",
    "- Train-Time Augmentation\n",
    "    - Train-time augmentation is required, most commonly involved resizing and cropping of input images, as well as modification of images such as shifts, flips and changes to colors.\n",
    "- Test-Time Augmentation\n",
    "    - Test-time augmentation was focused on systematic crops of the input images to ensure features present in the input images were detected."
   ]
  },
  {
   "cell_type": "code",
   "execution_count": 1,
   "metadata": {},
   "outputs": [],
   "source": [
    "import numpy as np\n",
    "from PIL import Image\n",
    "\n",
    "# Define path of data\n",
    "products = ['chinkiang_vinegar','katsuobushi','lurpak']\n",
    "\n",
    "# Test just 1 product now\n",
    "product = products[0]\n",
    "\n",
    "# Test just 1 image now\n",
    "path = f'data/{product}/{product}_1.png'"
   ]
  },
  {
   "cell_type": "markdown",
   "metadata": {},
   "source": [
    "# Normalise pixel values\n",
    "Only do this if we have reason to believe that different features have  different scales, which should be of approx. equal importance to the learning algorithm\n",
    "\n",
    "Not really needed for images, since pixel values can only range from 0 and 255\n",
    "\n",
    "# Zero-Centering Pixel Values\n",
    "Manual example of zero-centering pixel values:"
   ]
  },
  {
   "cell_type": "code",
   "execution_count": 2,
   "metadata": {},
   "outputs": [
    {
     "name": "stdout",
     "output_type": "stream",
     "text": [
      "Means: [232.19542342 228.89418018 217.33503303]\n",
      "Mins: [0. 0. 0.], Maxs: [255. 255. 255.]\n",
      "Means: [ 4.99870684e-07 -1.17054931e-07 -8.18278696e-07]\n",
      "Mins: [-232.19542 -228.89418 -217.33504], Maxs: [22.804577 26.10582  37.664967]\n"
     ]
    },
    {
     "data": {
      "text/plain": [
       "array([[[22.804577, 26.10582 , 37.664967],\n",
       "        [22.804577, 26.10582 , 37.664967],\n",
       "        [22.804577, 26.10582 , 37.664967],\n",
       "        ...,\n",
       "        [22.804577, 26.10582 , 37.664967],\n",
       "        [22.804577, 26.10582 , 37.664967],\n",
       "        [22.804577, 26.10582 , 37.664967]],\n",
       "\n",
       "       [[22.804577, 26.10582 , 37.664967],\n",
       "        [22.804577, 26.10582 , 37.664967],\n",
       "        [22.804577, 26.10582 , 37.664967],\n",
       "        ...,\n",
       "        [22.804577, 26.10582 , 37.664967],\n",
       "        [22.804577, 26.10582 , 37.664967],\n",
       "        [22.804577, 26.10582 , 37.664967]],\n",
       "\n",
       "       [[22.804577, 26.10582 , 37.664967],\n",
       "        [22.804577, 26.10582 , 37.664967],\n",
       "        [22.804577, 26.10582 , 37.664967],\n",
       "        ...,\n",
       "        [22.804577, 26.10582 , 37.664967],\n",
       "        [22.804577, 26.10582 , 37.664967],\n",
       "        [22.804577, 26.10582 , 37.664967]],\n",
       "\n",
       "       ...,\n",
       "\n",
       "       [[22.804577, 26.10582 , 37.664967],\n",
       "        [22.804577, 26.10582 , 37.664967],\n",
       "        [22.804577, 26.10582 , 37.664967],\n",
       "        ...,\n",
       "        [22.804577, 26.10582 , 37.664967],\n",
       "        [22.804577, 26.10582 , 37.664967],\n",
       "        [22.804577, 26.10582 , 37.664967]],\n",
       "\n",
       "       [[22.804577, 26.10582 , 37.664967],\n",
       "        [22.804577, 26.10582 , 37.664967],\n",
       "        [22.804577, 26.10582 , 37.664967],\n",
       "        ...,\n",
       "        [22.804577, 26.10582 , 37.664967],\n",
       "        [22.804577, 26.10582 , 37.664967],\n",
       "        [22.804577, 26.10582 , 37.664967]],\n",
       "\n",
       "       [[22.804577, 26.10582 , 37.664967],\n",
       "        [22.804577, 26.10582 , 37.664967],\n",
       "        [22.804577, 26.10582 , 37.664967],\n",
       "        ...,\n",
       "        [22.804577, 26.10582 , 37.664967],\n",
       "        [22.804577, 26.10582 , 37.664967],\n",
       "        [22.804577, 26.10582 , 37.664967]]], dtype=float32)"
      ]
     },
     "execution_count": 2,
     "metadata": {},
     "output_type": "execute_result"
    }
   ],
   "source": [
    "# Load image\n",
    "img = Image.open(path)\n",
    "pixels = np.asarray(img)\n",
    "pixels = pixels.astype('float32')\n",
    "\n",
    "# centre pixel values\n",
    "# Global center = calculate and subtract mean across all colour channels\n",
    "# Local centre = calculate and subtract mean per colour channel\n",
    "\n",
    "def centre_pixels(pixels,local=True,visualise=False):\n",
    "    if local:\n",
    "        # calculate per-channel means and standard deviations\n",
    "        means = pixels.mean(axis=(0,1), dtype='float64')\n",
    "        print('Means: %s' % means)\n",
    "        print('Mins: %s, Maxs: %s' % (pixels.min(axis=(0,1)), pixels.max(axis=(0,1))))\n",
    "        # per-channel centering of pixels\n",
    "        pixels -= means\n",
    "        # confirm it had the desired effect\n",
    "        means = pixels.mean(axis=(0,1), dtype='float64')\n",
    "        print('Means: %s' % means)\n",
    "        print('Mins: %s, Maxs: %s' % (pixels.min(axis=(0,1)), pixels.max(axis=(0,1))))\n",
    "    else:\n",
    "        # calculate global mean\n",
    "        mean = pixels.mean()\n",
    "        print('Mean: %.3f' % mean)\n",
    "        print('Min: %.3f, Max: %.3f' % (pixels.min(), pixels.max()))\n",
    "        # global centering of pixels\n",
    "        pixels -= mean\n",
    "        # confirm it had the desired effect\n",
    "        mean = pixels.mean()\n",
    "        print('Mean: %.3f' % mean)\n",
    "        print('Min: %.3f, Max: %.3f' % (pixels.min(), pixels.max()))\n",
    "    \n",
    "    if visualise:\n",
    "        # Visualise current image\n",
    "        pixels = pixels.astype(np.uint8)\n",
    "        img = Image.fromarray(pixels)\n",
    "        img.show()\n",
    "\n",
    "centre_pixels(pixels)\n",
    "pixels"
   ]
  },
  {
   "cell_type": "markdown",
   "metadata": {},
   "source": [
    "# Resizing Images\n",
    "\n",
    "## Required Image Dimensions\n",
    "Resize based off the [ResNet architecture](https://towardsdatascience.com/an-overview-of-resnet-and-its-variants-5281e2f56035)\n",
    "- ResNet is a CNN architecture, with an RNN-like functionality that solves for the vanishing gradient problem!\n",
    "- From [Keras](https://keras.io/applications/#resnet), the default input size for this model is **224x224**\n",
    "    - Can also use this link to learn how to use **transfer learning**\n",
    "    - [How to use transfer learning](https://machinelearningmastery.com/how-to-use-transfer-learning-when-developing-convolutional-neural-network-models/)\n",
    "- [Deeper information about CNNs in general](http://cs231n.github.io/convolutional-networks/#case)"
   ]
  },
  {
   "cell_type": "code",
   "execution_count": 3,
   "metadata": {},
   "outputs": [
    {
     "data": {
      "text/plain": [
       "(500, 333, 3)"
      ]
     },
     "execution_count": 3,
     "metadata": {},
     "output_type": "execute_result"
    }
   ],
   "source": [
    "# Current image dimensions\n",
    "pixels.shape"
   ]
  },
  {
   "cell_type": "markdown",
   "metadata": {},
   "source": [
    "## Using Keras to resize images\n",
    "- [Step-by-step guide](https://www.pyimagesearch.com/2018/09/10/keras-tutorial-how-to-get-started-with-keras-deep-learning-and-python/) to using Keras for CNN"
   ]
  },
  {
   "cell_type": "code",
   "execution_count": 4,
   "metadata": {},
   "outputs": [
    {
     "name": "stderr",
     "output_type": "stream",
     "text": [
      "C:\\Users\\BobJin\\Anaconda3\\lib\\site-packages\\h5py\\__init__.py:72: UserWarning: h5py is running against HDF5 1.10.2 when it was built against 1.10.3, this may cause problems\n",
      "  '{0}.{1}.{2}'.format(*version.hdf5_built_version_tuple)\n"
     ]
    }
   ],
   "source": [
    "import tensorflow as tf\n",
    "\n",
    "from tensorflow.keras.preprocessing.image import load_img\n",
    "from tensorflow.keras.preprocessing.image import img_to_array\n",
    "\n",
    "image = load_img(path, target_size=(224, 224)) # Squishes image!\n",
    "image = img_to_array(image)"
   ]
  },
  {
   "cell_type": "code",
   "execution_count": 5,
   "metadata": {},
   "outputs": [],
   "source": [
    "# set the matplotlib backend so figures can be saved in the background\n",
    "import matplotlib\n",
    "# matplotlib.use(\"Agg\")\n",
    "\n",
    "# import the necessary packages\n",
    "import tensorflow as tf\n",
    "from tensorflow.keras import layers\n",
    "\n",
    "from sklearn.preprocessing import LabelBinarizer\n",
    "from sklearn.model_selection import train_test_split\n",
    "from sklearn.metrics import classification_report\n",
    "# from keras.models import Sequential\n",
    "# from keras.layers.core import Dense\n",
    "# from keras.optimizers import SGD\n",
    "# from imutils import paths\n",
    "import matplotlib.pyplot as plt\n",
    "import numpy as np\n",
    "import argparse\n",
    "import random\n",
    "import pickle\n",
    "import cv2\n",
    "import os"
   ]
  },
  {
   "cell_type": "code",
   "execution_count": 6,
   "metadata": {},
   "outputs": [],
   "source": [
    "def getListOfFiles(dirName):\n",
    "    '''Create a list of file and subdir names in given directory\n",
    "    '''\n",
    "    allFiles = list()\n",
    "    dirName = 'data'\n",
    "    for (dirpath, dirnames, filenames) in os.walk(dirName):\n",
    "        allFiles += [os.path.join(dirpath, file) for file in filenames]\n",
    "\n",
    "    return allFiles"
   ]
  },
  {
   "cell_type": "code",
   "execution_count": 7,
   "metadata": {},
   "outputs": [
    {
     "name": "stdout",
     "output_type": "stream",
     "text": [
      "[INFO] loading images...\n"
     ]
    }
   ],
   "source": [
    "# initialize the data and labels\n",
    "print(\"[INFO] loading images...\")\n",
    "data = []\n",
    "labels = []\n",
    " \n",
    "# grab the image paths and randomly shuffle them\n",
    "imagePaths = sorted(getListOfFiles('data'))\n",
    "random.seed(69)\n",
    "random.shuffle(imagePaths)\n",
    " \n",
    "# loop over the input images\n",
    "for imagePath in imagePaths:\n",
    "    # load the image, resize the image to be 224x224 pixels (ignoring\n",
    "    # aspect ratio), flatten the image into 224x224x3=150528 pixel image\n",
    "    # into a list, and store the image in the data list\n",
    "    image = cv2.imread(imagePath)\n",
    "    image = cv2.resize(image, (224, 224)).flatten()\n",
    "    data.append(image)\n",
    " \n",
    "    # extract the class label from the image path and update the\n",
    "    # labels list\n",
    "    label = imagePath.split(os.path.sep)[-2]\n",
    "    labels.append(label)\n",
    "\n",
    "# scale the raw pixel intensities to the range [0, 1]\n",
    "data = np.array(data, dtype=\"float\") / 255.0\n",
    "labels = np.array(labels)"
   ]
  },
  {
   "cell_type": "markdown",
   "metadata": {},
   "source": [
    "## Data Segmentation"
   ]
  },
  {
   "cell_type": "code",
   "execution_count": 8,
   "metadata": {},
   "outputs": [],
   "source": [
    "# partition the data into training and testing splits using 75% of\n",
    "# the data for training and the remaining 25% for testing\n",
    "(trainX, testX, trainY, testY) = train_test_split(data, labels, test_size=0.1, random_state=69)\n",
    "\n",
    "# convert the labels from integers to vectors (for 2-class, binary\n",
    "# classification you should use Keras' to_categorical function\n",
    "# instead as the scikit-learn's LabelBinarizer will not return a\n",
    "# vector)\n",
    "lb = LabelBinarizer()\n",
    "trainY = lb.fit_transform(trainY)\n",
    "testY = lb.transform(testY)"
   ]
  },
  {
   "cell_type": "markdown",
   "metadata": {},
   "source": [
    "## Define Keras model architecture\n",
    "- Use basic structure, then recreate ResNet"
   ]
  },
  {
   "cell_type": "code",
   "execution_count": 9,
   "metadata": {
    "scrolled": true
   },
   "outputs": [
    {
     "name": "stdout",
     "output_type": "stream",
     "text": [
      "WARNING:tensorflow:From C:\\Users\\BobJin\\Anaconda3\\lib\\site-packages\\tensorflow\\python\\ops\\resource_variable_ops.py:435: colocate_with (from tensorflow.python.framework.ops) is deprecated and will be removed in a future version.\n",
      "Instructions for updating:\n",
      "Colocations handled automatically by placer.\n",
      "[INFO] training network...\n",
      "_________________________________________________________________\n",
      "Layer (type)                 Output Shape              Param #   \n",
      "=================================================================\n",
      "dense (Dense)                (None, 1024)              154141696 \n",
      "_________________________________________________________________\n",
      "dense_1 (Dense)              (None, 512)               524800    \n",
      "_________________________________________________________________\n",
      "dense_2 (Dense)              (None, 3)                 1539      \n",
      "=================================================================\n",
      "Total params: 154,668,035\n",
      "Trainable params: 154,668,035\n",
      "Non-trainable params: 0\n",
      "_________________________________________________________________\n"
     ]
    }
   ],
   "source": [
    "# define the 150528-1024-512-3 architecture using Keras\n",
    "model = tf.keras.Sequential()\n",
    "model.add(tf.keras.layers.Dense(1024, input_shape=(150528,), activation=\"sigmoid\"))\n",
    "model.add(tf.keras.layers.Dense(512, activation=\"sigmoid\"))\n",
    "model.add(tf.keras.layers.Dense(len(lb.classes_), activation=\"softmax\"))\n",
    "\n",
    "\n",
    "# initialize our initial learning rate and # of epochs to train for\n",
    "INIT_LR = 0.01\n",
    "EPOCHS = 30\n",
    " \n",
    "# compile the model using SGD as our optimizer and categorical\n",
    "# cross-entropy loss (you'll want to use binary_crossentropy\n",
    "# for 2-class classification)\n",
    "print(\"[INFO] training network...\")\n",
    "opt = tf.keras.optimizers.SGD(lr=INIT_LR)\n",
    "model.compile(loss=\"categorical_crossentropy\", optimizer=opt, metrics=[\"accuracy\"])\n",
    "\n",
    "model.summary()"
   ]
  },
  {
   "cell_type": "code",
   "execution_count": 10,
   "metadata": {
    "scrolled": true
   },
   "outputs": [
    {
     "name": "stdout",
     "output_type": "stream",
     "text": [
      "Train on 262 samples, validate on 30 samples\n",
      "WARNING:tensorflow:From C:\\Users\\BobJin\\Anaconda3\\lib\\site-packages\\tensorflow\\python\\ops\\math_ops.py:3066: to_int32 (from tensorflow.python.ops.math_ops) is deprecated and will be removed in a future version.\n",
      "Instructions for updating:\n",
      "Use tf.cast instead.\n",
      "Epoch 1/75\n",
      "262/262 [==============================] - 1s 5ms/sample - loss: 1.1635 - acc: 0.3397 - val_loss: 1.0786 - val_acc: 0.3667\n",
      "Epoch 2/75\n",
      "262/262 [==============================] - 1s 3ms/sample - loss: 1.0676 - acc: 0.4160 - val_loss: 0.8234 - val_acc: 0.8333\n",
      "Epoch 3/75\n",
      "262/262 [==============================] - 1s 3ms/sample - loss: 0.9182 - acc: 0.5191 - val_loss: 0.7726 - val_acc: 0.6667\n",
      "Epoch 4/75\n",
      "262/262 [==============================] - 1s 3ms/sample - loss: 0.7701 - acc: 0.6756 - val_loss: 0.5771 - val_acc: 1.0000\n",
      "Epoch 5/75\n",
      "262/262 [==============================] - 1s 3ms/sample - loss: 0.7761 - acc: 0.6832 - val_loss: 0.5602 - val_acc: 0.9000\n",
      "Epoch 6/75\n",
      "262/262 [==============================] - 1s 3ms/sample - loss: 0.6119 - acc: 0.8206 - val_loss: 0.5326 - val_acc: 0.9333\n",
      "Epoch 7/75\n",
      "262/262 [==============================] - 1s 3ms/sample - loss: 0.5190 - acc: 0.9046 - val_loss: 0.4363 - val_acc: 0.9667\n",
      "Epoch 8/75\n",
      "262/262 [==============================] - 1s 3ms/sample - loss: 0.5411 - acc: 0.8626 - val_loss: 0.4346 - val_acc: 0.9000\n",
      "Epoch 9/75\n",
      "262/262 [==============================] - 1s 3ms/sample - loss: 0.4337 - acc: 0.9008 - val_loss: 0.5198 - val_acc: 0.7667\n",
      "Epoch 10/75\n",
      "262/262 [==============================] - 1s 3ms/sample - loss: 0.4348 - acc: 0.9084 - val_loss: 0.3145 - val_acc: 1.0000\n",
      "Epoch 11/75\n",
      "262/262 [==============================] - 1s 3ms/sample - loss: 0.3798 - acc: 0.9275 - val_loss: 0.2751 - val_acc: 0.9667\n",
      "Epoch 12/75\n",
      "262/262 [==============================] - 1s 3ms/sample - loss: 0.3549 - acc: 0.9275 - val_loss: 0.3470 - val_acc: 0.9000\n",
      "Epoch 13/75\n",
      "262/262 [==============================] - 1s 3ms/sample - loss: 0.4270 - acc: 0.8473 - val_loss: 0.2597 - val_acc: 0.9333\n",
      "Epoch 14/75\n",
      "262/262 [==============================] - 1s 3ms/sample - loss: 0.3433 - acc: 0.9122 - val_loss: 0.3282 - val_acc: 0.9333\n",
      "Epoch 15/75\n",
      "262/262 [==============================] - 1s 3ms/sample - loss: 0.2902 - acc: 0.9275 - val_loss: 0.1962 - val_acc: 1.0000\n",
      "Epoch 16/75\n",
      "262/262 [==============================] - 1s 3ms/sample - loss: 0.2704 - acc: 0.9389 - val_loss: 0.1839 - val_acc: 1.0000\n",
      "Epoch 17/75\n",
      "262/262 [==============================] - 1s 3ms/sample - loss: 0.2630 - acc: 0.9466 - val_loss: 0.1743 - val_acc: 1.0000\n",
      "Epoch 18/75\n",
      "262/262 [==============================] - 1s 3ms/sample - loss: 0.2588 - acc: 0.9504 - val_loss: 0.1728 - val_acc: 1.0000\n",
      "Epoch 19/75\n",
      "262/262 [==============================] - 1s 3ms/sample - loss: 0.2427 - acc: 0.9580 - val_loss: 0.1744 - val_acc: 0.9667\n",
      "Epoch 20/75\n",
      "262/262 [==============================] - 1s 3ms/sample - loss: 0.2239 - acc: 0.9504 - val_loss: 0.1651 - val_acc: 0.9667\n",
      "Epoch 21/75\n",
      "262/262 [==============================] - 1s 3ms/sample - loss: 0.2268 - acc: 0.9542 - val_loss: 0.1460 - val_acc: 1.0000\n",
      "Epoch 22/75\n",
      "262/262 [==============================] - 1s 3ms/sample - loss: 0.1984 - acc: 0.9618 - val_loss: 0.1538 - val_acc: 1.0000\n",
      "Epoch 23/75\n",
      "262/262 [==============================] - 1s 3ms/sample - loss: 0.2024 - acc: 0.9695 - val_loss: 0.1876 - val_acc: 0.9667\n",
      "Epoch 24/75\n",
      "262/262 [==============================] - 1s 3ms/sample - loss: 0.2160 - acc: 0.9542 - val_loss: 0.1311 - val_acc: 1.0000\n",
      "Epoch 25/75\n",
      "262/262 [==============================] - 1s 3ms/sample - loss: 0.1816 - acc: 0.9695 - val_loss: 0.1277 - val_acc: 0.9667\n",
      "Epoch 26/75\n",
      "262/262 [==============================] - 1s 3ms/sample - loss: 0.2069 - acc: 0.9580 - val_loss: 0.1932 - val_acc: 0.9333\n",
      "Epoch 27/75\n",
      "262/262 [==============================] - 1s 3ms/sample - loss: 0.1858 - acc: 0.9695 - val_loss: 0.1020 - val_acc: 1.0000\n",
      "Epoch 28/75\n",
      "262/262 [==============================] - 1s 3ms/sample - loss: 0.1605 - acc: 0.9771 - val_loss: 0.1189 - val_acc: 1.0000\n",
      "Epoch 29/75\n",
      "262/262 [==============================] - 1s 3ms/sample - loss: 0.1580 - acc: 0.9733 - val_loss: 0.1106 - val_acc: 1.0000\n",
      "Epoch 30/75\n",
      "262/262 [==============================] - 1s 3ms/sample - loss: 0.1575 - acc: 0.9771 - val_loss: 0.1176 - val_acc: 1.0000\n",
      "Epoch 31/75\n",
      "262/262 [==============================] - 1s 3ms/sample - loss: 0.1501 - acc: 0.9809 - val_loss: 0.1199 - val_acc: 1.0000\n",
      "Epoch 32/75\n",
      "262/262 [==============================] - 1s 3ms/sample - loss: 0.1448 - acc: 0.9809 - val_loss: 0.1018 - val_acc: 1.0000\n",
      "Epoch 33/75\n",
      "262/262 [==============================] - 1s 3ms/sample - loss: 0.1386 - acc: 0.9809 - val_loss: 0.0875 - val_acc: 1.0000\n",
      "Epoch 34/75\n",
      "262/262 [==============================] - 1s 3ms/sample - loss: 0.1314 - acc: 0.9733 - val_loss: 0.0894 - val_acc: 1.0000\n",
      "Epoch 35/75\n",
      "262/262 [==============================] - 1s 3ms/sample - loss: 0.1299 - acc: 0.9809 - val_loss: 0.9720 - val_acc: 0.6667\n",
      "Epoch 36/75\n",
      "262/262 [==============================] - 1s 3ms/sample - loss: 0.4562 - acc: 0.8588 - val_loss: 0.1020 - val_acc: 1.0000\n",
      "Epoch 37/75\n",
      "262/262 [==============================] - 1s 3ms/sample - loss: 0.1257 - acc: 0.9733 - val_loss: 0.0843 - val_acc: 1.0000\n",
      "Epoch 38/75\n",
      "262/262 [==============================] - 1s 3ms/sample - loss: 0.1156 - acc: 0.9847 - val_loss: 0.0989 - val_acc: 1.0000\n",
      "Epoch 39/75\n",
      "262/262 [==============================] - 1s 3ms/sample - loss: 0.1217 - acc: 0.9809 - val_loss: 0.0789 - val_acc: 1.0000\n",
      "Epoch 40/75\n",
      "262/262 [==============================] - 1s 3ms/sample - loss: 0.1108 - acc: 0.9847 - val_loss: 0.0747 - val_acc: 1.0000\n",
      "Epoch 41/75\n",
      "262/262 [==============================] - 1s 3ms/sample - loss: 0.1105 - acc: 0.9809 - val_loss: 0.0718 - val_acc: 1.0000\n",
      "Epoch 42/75\n",
      "262/262 [==============================] - 1s 3ms/sample - loss: 0.1024 - acc: 0.9847 - val_loss: 0.0838 - val_acc: 1.0000\n",
      "Epoch 43/75\n",
      "262/262 [==============================] - 1s 3ms/sample - loss: 0.0995 - acc: 0.9847 - val_loss: 0.1308 - val_acc: 0.9667\n",
      "Epoch 44/75\n",
      "262/262 [==============================] - 1s 3ms/sample - loss: 0.1004 - acc: 0.9847 - val_loss: 0.0921 - val_acc: 0.9667\n",
      "Epoch 45/75\n",
      "262/262 [==============================] - 1s 3ms/sample - loss: 0.0989 - acc: 0.9771 - val_loss: 0.0722 - val_acc: 1.0000\n",
      "Epoch 46/75\n",
      "262/262 [==============================] - 1s 3ms/sample - loss: 0.0931 - acc: 0.9885 - val_loss: 0.0882 - val_acc: 0.9667\n",
      "Epoch 47/75\n",
      "262/262 [==============================] - 1s 3ms/sample - loss: 0.0867 - acc: 0.9847 - val_loss: 0.0661 - val_acc: 1.0000\n",
      "Epoch 48/75\n",
      "262/262 [==============================] - 1s 3ms/sample - loss: 0.0917 - acc: 0.9847 - val_loss: 0.0655 - val_acc: 1.0000\n",
      "Epoch 49/75\n",
      "262/262 [==============================] - 1s 3ms/sample - loss: 0.0880 - acc: 0.9885 - val_loss: 0.0604 - val_acc: 1.0000\n",
      "Epoch 50/75\n",
      "262/262 [==============================] - 1s 3ms/sample - loss: 0.0857 - acc: 0.9885 - val_loss: 0.0670 - val_acc: 1.0000\n",
      "Epoch 51/75\n",
      "262/262 [==============================] - 1s 3ms/sample - loss: 0.0815 - acc: 0.9885 - val_loss: 0.0678 - val_acc: 1.0000\n",
      "Epoch 52/75\n",
      "262/262 [==============================] - 1s 3ms/sample - loss: 0.0796 - acc: 0.9885 - val_loss: 0.0653 - val_acc: 1.0000\n",
      "Epoch 53/75\n",
      "262/262 [==============================] - 1s 3ms/sample - loss: 0.0832 - acc: 0.9809 - val_loss: 0.0597 - val_acc: 1.0000\n",
      "Epoch 54/75\n",
      "262/262 [==============================] - 1s 3ms/sample - loss: 0.0764 - acc: 0.9885 - val_loss: 0.0873 - val_acc: 0.9667\n",
      "Epoch 55/75\n",
      "262/262 [==============================] - 1s 3ms/sample - loss: 0.0734 - acc: 0.9847 - val_loss: 0.0674 - val_acc: 1.0000\n",
      "Epoch 56/75\n",
      "262/262 [==============================] - 1s 3ms/sample - loss: 0.0700 - acc: 0.9885 - val_loss: 0.0568 - val_acc: 1.0000\n",
      "Epoch 57/75\n",
      "262/262 [==============================] - 1s 3ms/sample - loss: 0.0780 - acc: 0.9847 - val_loss: 0.0615 - val_acc: 1.0000\n",
      "Epoch 58/75\n",
      "262/262 [==============================] - 1s 3ms/sample - loss: 0.0683 - acc: 0.9885 - val_loss: 0.0807 - val_acc: 1.0000\n",
      "Epoch 59/75\n"
     ]
    },
    {
     "name": "stdout",
     "output_type": "stream",
     "text": [
      "262/262 [==============================] - 1s 3ms/sample - loss: 0.0656 - acc: 0.9924 - val_loss: 0.0530 - val_acc: 1.0000\n",
      "Epoch 60/75\n",
      "262/262 [==============================] - 1s 3ms/sample - loss: 0.0609 - acc: 0.9885 - val_loss: 0.0530 - val_acc: 1.0000\n",
      "Epoch 61/75\n",
      "262/262 [==============================] - 1s 3ms/sample - loss: 0.0654 - acc: 0.9885 - val_loss: 0.0576 - val_acc: 1.0000\n",
      "Epoch 62/75\n",
      "262/262 [==============================] - 1s 3ms/sample - loss: 0.0619 - acc: 0.9885 - val_loss: 0.0614 - val_acc: 1.0000\n",
      "Epoch 63/75\n",
      "262/262 [==============================] - 1s 3ms/sample - loss: 0.0567 - acc: 0.9924 - val_loss: 0.0507 - val_acc: 1.0000\n",
      "Epoch 64/75\n",
      "262/262 [==============================] - 1s 3ms/sample - loss: 0.0557 - acc: 0.9885 - val_loss: 0.1105 - val_acc: 0.9667\n",
      "Epoch 65/75\n",
      "262/262 [==============================] - 1s 3ms/sample - loss: 0.0566 - acc: 0.9885 - val_loss: 0.0578 - val_acc: 1.0000\n",
      "Epoch 66/75\n",
      "262/262 [==============================] - 1s 3ms/sample - loss: 0.0610 - acc: 0.9847 - val_loss: 0.0521 - val_acc: 1.0000\n",
      "Epoch 67/75\n",
      "262/262 [==============================] - 1s 3ms/sample - loss: 0.0513 - acc: 0.9924 - val_loss: 0.0533 - val_acc: 1.0000\n",
      "Epoch 68/75\n",
      "262/262 [==============================] - 1s 3ms/sample - loss: 0.0496 - acc: 0.9924 - val_loss: 0.0530 - val_acc: 1.0000\n",
      "Epoch 69/75\n",
      "262/262 [==============================] - 1s 3ms/sample - loss: 0.0486 - acc: 0.9924 - val_loss: 0.0716 - val_acc: 1.0000\n",
      "Epoch 70/75\n",
      "262/262 [==============================] - 1s 3ms/sample - loss: 0.0539 - acc: 0.9924 - val_loss: 0.0442 - val_acc: 1.0000\n",
      "Epoch 71/75\n",
      "262/262 [==============================] - 1s 3ms/sample - loss: 0.0458 - acc: 0.9924 - val_loss: 0.0941 - val_acc: 0.9667\n",
      "Epoch 72/75\n",
      "262/262 [==============================] - 1s 3ms/sample - loss: 0.0477 - acc: 0.9924 - val_loss: 0.0672 - val_acc: 0.9667\n",
      "Epoch 73/75\n",
      "262/262 [==============================] - 1s 3ms/sample - loss: 0.0470 - acc: 0.9924 - val_loss: 0.1280 - val_acc: 0.9667\n",
      "Epoch 74/75\n",
      "262/262 [==============================] - 1s 3ms/sample - loss: 0.0537 - acc: 0.9924 - val_loss: 0.0460 - val_acc: 1.0000\n",
      "Epoch 75/75\n",
      "262/262 [==============================] - 1s 3ms/sample - loss: 0.0444 - acc: 0.9962 - val_loss: 0.0519 - val_acc: 1.0000\n"
     ]
    }
   ],
   "source": [
    "# train the neural network\n",
    "H = model.fit(trainX, trainY, validation_data=(testX, testY), epochs=EPOCHS, batch_size=32)"
   ]
  },
  {
   "cell_type": "code",
   "execution_count": 12,
   "metadata": {},
   "outputs": [
    {
     "name": "stdout",
     "output_type": "stream",
     "text": [
      "[INFO] evaluating network...\n",
      "                   precision    recall  f1-score   support\n",
      "\n",
      "chinkiang_vinegar       1.00      1.00      1.00        10\n",
      "      katsuobushi       1.00      1.00      1.00        11\n",
      "           lurpak       1.00      1.00      1.00         9\n",
      "\n",
      "         accuracy                           1.00        30\n",
      "        macro avg       1.00      1.00      1.00        30\n",
      "     weighted avg       1.00      1.00      1.00        30\n",
      "\n"
     ]
    },
    {
     "data": {
      "text/plain": [
       "<matplotlib.legend.Legend at 0x21f123da0b8>"
      ]
     },
     "execution_count": 12,
     "metadata": {},
     "output_type": "execute_result"
    },
    {
     "data": {
      "image/png": "[encoded data removed]",
      "text/plain": [
       "<Figure size 432x288 with 1 Axes>"
      ]
     },
     "metadata": {},
     "output_type": "display_data"
    }
   ],
   "source": [
    "# evaluate the network\n",
    "print(\"[INFO] evaluating network...\")\n",
    "predictions = model.predict(testX, batch_size=32)\n",
    "print(classification_report(testY.argmax(axis=1), predictions.argmax(axis=1), target_names=lb.classes_))\n",
    " \n",
    "# plot the training loss and accuracy\n",
    "N = np.arange(0, EPOCHS)\n",
    "plt.style.use(\"ggplot\")\n",
    "plt.figure()\n",
    "plt.plot(N, H.history[\"loss\"], label=\"train_loss\")\n",
    "plt.plot(N, H.history[\"val_loss\"], label=\"val_loss\")\n",
    "plt.plot(N, H.history[\"acc\"], label=\"train_acc\")\n",
    "plt.plot(N, H.history[\"val_acc\"], label=\"val_acc\")\n",
    "plt.title(\"Training Loss and Accuracy (Simple NN)\")\n",
    "plt.xlabel(\"Epoch #\")\n",
    "plt.ylabel(\"Loss/Accuracy\")\n",
    "plt.legend()"
   ]
  },
  {
   "cell_type": "code",
   "execution_count": null,
   "metadata": {},
   "outputs": [],
   "source": []
  }
 ],
 "metadata": {
  "kernelspec": {
   "display_name": "Python 3",
   "language": "python",
   "name": "python3"
  },
  "language_info": {
   "codemirror_mode": {
    "name": "ipython",
    "version": 3
   },
   "file_extension": ".py",
   "mimetype": "text/x-python",
   "name": "python",
   "nbconvert_exporter": "python",
   "pygments_lexer": "ipython3",
   "version": "3.7.3"
  }
 },
 "nbformat": 4,
 "nbformat_minor": 2
}
