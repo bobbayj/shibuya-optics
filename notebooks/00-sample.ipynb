{
 "cells": [
  {
   "cell_type": "code",
   "execution_count": 1,
   "metadata": {},
   "outputs": [
    {
     "name": "stdout",
     "output_type": "stream",
     "text": [
      "WARNING:tensorflow:From C:\\Users\\BobJin\\Anaconda3\\lib\\site-packages\\tensorflow\\python\\ops\\resource_variable_ops.py:435: colocate_with (from tensorflow.python.framework.ops) is deprecated and will be removed in a future version.\n",
      "Instructions for updating:\n",
      "Colocations handled automatically by placer.\n",
      "WARNING:tensorflow:From C:\\Users\\BobJin\\Anaconda3\\lib\\site-packages\\tensorflow\\python\\keras\\layers\\core.py:143: calling dropout (from tensorflow.python.ops.nn_ops) with keep_prob is deprecated and will be removed in a future version.\n",
      "Instructions for updating:\n",
      "Please use `rate` instead of `keep_prob`. Rate should be set to `rate = 1 - keep_prob`.\n",
      "Compile complete\n"
     ]
    }
   ],
   "source": [
    "# Sample CNN for MNIST handwriting recognition\n",
    "import tensorflow as tf\n",
    "mnist = tf.keras.datasets.mnist\n",
    "\n",
    "(train_images, train_labels), (test_images, test_labels) = mnist.load_data()\n",
    "\n",
    "# Loand and process MNIST data\n",
    "# reshape and rescale data for the CNN\n",
    "\n",
    "train_images = train_images.reshape(60000, 28, 28, 1)\n",
    "\n",
    "test_images = test_images.reshape(10000, 28, 28, 1)\n",
    "\n",
    "train_images, test_images = train_images/255, test_images/255\n",
    "\n",
    "# Create LeNet-5 CNN\n",
    "model = tf.keras.Sequential([\n",
    "    tf.keras.layers.Conv2D(32, (3,3), activation='relu', input_shape=(28,28,1)),\n",
    "    tf.keras.layers.Conv2D(64, (3,3), activation='relu'),\n",
    "    tf.keras.layers.MaxPooling2D(2,2),\n",
    "    tf.keras.layers.Dropout(0.25),\n",
    "    tf.keras.layers.Flatten(),\n",
    "    tf.keras.layers.Dense(128, activation='relu'),\n",
    "    tf.keras.layers.Dropout(0.5),\n",
    "    tf.keras.layers.Dense(10, activation='softmax')\n",
    "])\n",
    "\n",
    "# Compile\n",
    "model.compile(optimizer='adam', loss='sparse_categorical_crossentropy', metrics=['accuracy'])\n",
    "\n",
    "print('Compile complete')"
   ]
  },
  {
   "cell_type": "code",
   "execution_count": 2,
   "metadata": {},
   "outputs": [
    {
     "name": "stdout",
     "output_type": "stream",
     "text": [
      "Train on 60000 samples, validate on 10000 samples\n",
      "Epoch 1/15\n",
      "60000/60000 [==============================] - 8s 129us/sample - loss: 0.2410 - acc: 0.9268 - val_loss: 0.0497 - val_acc: 0.9838\n",
      "Epoch 2/15\n",
      "60000/60000 [==============================] - 5s 90us/sample - loss: 0.0843 - acc: 0.9742 - val_loss: 0.0447 - val_acc: 0.9852\n",
      "Epoch 3/15\n",
      "60000/60000 [==============================] - 5s 91us/sample - loss: 0.0646 - acc: 0.9800 - val_loss: 0.0398 - val_acc: 0.9876\n",
      "Epoch 4/15\n",
      "60000/60000 [==============================] - 5s 90us/sample - loss: 0.0533 - acc: 0.9837 - val_loss: 0.0306 - val_acc: 0.9897\n",
      "Epoch 5/15\n",
      "60000/60000 [==============================] - 5s 90us/sample - loss: 0.0454 - acc: 0.9854 - val_loss: 0.0296 - val_acc: 0.9905\n",
      "Epoch 6/15\n",
      "60000/60000 [==============================] - 5s 90us/sample - loss: 0.0386 - acc: 0.9878 - val_loss: 0.0286 - val_acc: 0.9910\n",
      "Epoch 7/15\n",
      "60000/60000 [==============================] - 6s 94us/sample - loss: 0.0341 - acc: 0.9892 - val_loss: 0.0294 - val_acc: 0.9914\n",
      "Epoch 8/15\n",
      "60000/60000 [==============================] - 5s 90us/sample - loss: 0.0323 - acc: 0.9900 - val_loss: 0.0249 - val_acc: 0.9935\n",
      "Epoch 9/15\n",
      "60000/60000 [==============================] - 5s 88us/sample - loss: 0.0280 - acc: 0.9913 - val_loss: 0.0267 - val_acc: 0.9923\n",
      "Epoch 10/15\n",
      "60000/60000 [==============================] - 5s 91us/sample - loss: 0.0272 - acc: 0.9915 - val_loss: 0.0311 - val_acc: 0.9917\n",
      "Epoch 11/15\n",
      "60000/60000 [==============================] - 5s 90us/sample - loss: 0.0236 - acc: 0.9925 - val_loss: 0.0303 - val_acc: 0.9923\n",
      "Epoch 12/15\n",
      "60000/60000 [==============================] - 5s 88us/sample - loss: 0.0218 - acc: 0.9929 - val_loss: 0.0327 - val_acc: 0.9914\n",
      "Epoch 13/15\n",
      "60000/60000 [==============================] - 5s 88us/sample - loss: 0.0200 - acc: 0.9934 - val_loss: 0.0283 - val_acc: 0.9928\n",
      "Epoch 14/15\n",
      "60000/60000 [==============================] - 5s 88us/sample - loss: 0.0200 - acc: 0.9934 - val_loss: 0.0297 - val_acc: 0.9921\n",
      "Epoch 15/15\n",
      "60000/60000 [==============================] - 5s 87us/sample - loss: 0.0171 - acc: 0.9943 - val_loss: 0.0297 - val_acc: 0.9928\n",
      "Training took 87.25390219688416 seconds\n"
     ]
    }
   ],
   "source": [
    "# Set log data to feed to TensorBoard for visual analysis\n",
    "tensor_board = tf.keras.callbacks.TensorBoard('./logs/sample-LeNet-MNIST-1')\n",
    "\n",
    "# Train model (with timing)\n",
    "import time\n",
    "\n",
    "start_time=time.time()\n",
    "\n",
    "model.fit(train_images, train_labels, batch_size=128, epochs=15, verbose=1,\n",
    "         validation_data=(test_images, test_labels), callbacks=[tensor_board])\n",
    "\n",
    "print('Training took {} seconds'.format(time.time()-start_time))"
   ]
  },
  {
   "cell_type": "code",
   "execution_count": null,
   "metadata": {},
   "outputs": [],
   "source": []
  }
 ],
 "metadata": {
  "kernelspec": {
   "display_name": "Python 3",
   "language": "python",
   "name": "python3"
  },
  "language_info": {
   "codemirror_mode": {
    "name": "ipython",
    "version": 3
   },
   "file_extension": ".py",
   "mimetype": "text/x-python",
   "name": "python",
   "nbconvert_exporter": "python",
   "pygments_lexer": "ipython3",
   "version": "3.7.3"
  }
 },
 "nbformat": 4,
 "nbformat_minor": 2
}
